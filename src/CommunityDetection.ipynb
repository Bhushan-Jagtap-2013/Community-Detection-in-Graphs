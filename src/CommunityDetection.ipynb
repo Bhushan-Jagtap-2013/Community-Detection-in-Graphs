{
 "cells": [
  {
   "cell_type": "markdown",
   "metadata": {},
   "source": [
    "### Homework 2: Twitter Mining\n",
    "\n",
    "• Choose a popular Twitter account (≥ 10, 000 followers).\n",
    "\n",
    "• Build the friendship graph for that account’s followers.\n",
    "\n",
    "• Choose a method of community detection and apply it to that graph.\n",
    "\n",
    "• Produce a visual display of your graph such that nodes belonging to different communities are differently colored."
   ]
  },
  {
   "cell_type": "code",
   "execution_count": 1,
   "metadata": {
    "collapsed": true
   },
   "outputs": [],
   "source": [
    "import json\n",
    "import pandas as pd\n",
    "from twitter import *\n",
    "from numpy import random"
   ]
  },
  {
   "cell_type": "markdown",
   "metadata": {},
   "source": [
    "Replace twitter access token and other infomartion in associated auth_dict file"
   ]
  },
  {
   "cell_type": "code",
   "execution_count": 2,
   "metadata": {
    "collapsed": true
   },
   "outputs": [],
   "source": [
    "# Loading my authentication tokens\n",
    "with open('auth_dict','r') as f:\n",
    "    twtr_auth = json.load(f)\n",
    "\n",
    "t = Twitter(auth=OAuth(twtr_auth['token'], twtr_auth['token_secret'], \n",
    "            twtr_auth['consumer_key'], twtr_auth['consumer_secret']))"
   ]
  },
  {
   "cell_type": "code",
   "execution_count": 3,
   "metadata": {
    "collapsed": true
   },
   "outputs": [],
   "source": [
    "import sys\n",
    "import time\n",
    "from twitter.api import TwitterHTTPError\n",
    "from urllib.error import URLError\n",
    "from http.client import BadStatusLine\n",
    "\n",
    "def make_twitter_request(twitter_api_func, max_errors=10, *args, **kw):\n",
    "    # A nested helper function that handles common HTTPErrors. Return an updated\n",
    "    # value for wait_period if the problem is a 500 level error. Block until the\n",
    "    # rate limit is reset if it's a rate limiting issue (429 error). Returns None\n",
    "    # for 401 and 404 errors, which requires special handling by the caller.\n",
    "    def handle_twitter_http_error(e, wait_period=2, sleep_when_rate_limited=True):\n",
    "        if wait_period > 3600: # Seconds\n",
    "            print('Too many retries. Quitting.', file=sys.stderr)\n",
    "            raise e\n",
    "        if e.e.code == 401:\n",
    "            return None\n",
    "        elif e.e.code == 404:\n",
    "            print('Encountered 404 Error (Not Found)', file=sys.stderr)\n",
    "            return None\n",
    "        elif e.e.code == 429:\n",
    "            print('Encountered 429 Error (Rate Limit Exceeded)', file=sys.stderr)\n",
    "            if sleep_when_rate_limited:\n",
    "                print(\"Retrying in 15 minutes...ZzZ...\", file=sys.stderr)\n",
    "                sys.stderr.flush()\n",
    "                time.sleep(60*15 + 5)\n",
    "                print('...ZzZ...Awake now and trying again.', file=sys.stderr)\n",
    "                return 2\n",
    "            else:\n",
    "                raise e # Caller must handle the rate limiting issue\n",
    "        elif e.e.code in (500, 502, 503, 504):\n",
    "            print('Encountered %i Error. Retrying in %i seconds' % (e.e.code, wait_period), file=sys.stderr)\n",
    "            time.sleep(wait_period)\n",
    "            wait_period *= 1.5\n",
    "            return wait_period\n",
    "        else:\n",
    "            raise e\n",
    "\n",
    "    # End of nested helper function\n",
    "\n",
    "    wait_period = 2\n",
    "    error_count = 0\n",
    "    while True:\n",
    "        try:\n",
    "            return twitter_api_func(*args, **kw)\n",
    "        except TwitterHTTPError as e:\n",
    "            error_count = 0\n",
    "            wait_period = handle_twitter_http_error(e, wait_period)\n",
    "            if wait_period is None:\n",
    "                return\n",
    "        except URLError as e:\n",
    "            error_count += 1\n",
    "            print(\"URLError encountered. Continuing.\", file=sys.stderr)\n",
    "            if error_count > max_errors:\n",
    "                print(\"Too many consecutive errors...bailing out.\", file=sys.stderr)\n",
    "                raise\n",
    "        except BadStatusLine as e:\n",
    "            error_count += 1\n",
    "            print >> sys.stderr, \"BadStatusLine encountered. Continuing.\"\n",
    "            if error_count > max_errors:\n",
    "                print(\"Too many consecutive errors...bailing out.\", file=sys.stderr)\n",
    "                raise"
   ]
  },
  {
   "cell_type": "code",
   "execution_count": 4,
   "metadata": {
    "collapsed": true
   },
   "outputs": [],
   "source": [
    "# This will let us create new partial\n",
    "# functions with arguments set to \n",
    "# certain values.\n",
    "from functools import partial\n",
    "\n",
    "# This was maxint.\n",
    "# There is no longer a maxint (in Python 3)\n",
    "from sys import maxsize\n",
    "\n",
    "\n",
    "def get_friends_followers_ids(twitter_api, screen_name=None, user_id=None,\n",
    "                                friends_limit=maxsize, followers_limit=maxsize):\n",
    "    # Must have either screen_name or user_id (logical xor)\n",
    "    assert (screen_name != None) != (user_id != None), \\\n",
    "    \"Must have screen_name or user_id, but not both\"\n",
    "    \n",
    "    # You can also do this with a function closure.\n",
    "    get_friends_ids = partial(make_twitter_request, twitter_api.friends.ids,\n",
    "                                count=5000)\n",
    "    get_followers_ids = partial(make_twitter_request, twitter_api.followers.ids,\n",
    "                                count=5000)\n",
    "    friends_ids, followers_ids = [], []\n",
    "    for twitter_api_func, limit, ids, label in [\n",
    "            [get_friends_ids, friends_limit, friends_ids, \"friends\"],\n",
    "            [get_followers_ids, followers_limit, followers_ids, \"followers\"]\n",
    "            ]:\n",
    "        #LOOK HERE! This little line is important.\n",
    "        if limit == 0: continue\n",
    "        cursor = -1\n",
    "        while cursor != 0:\n",
    "            # Use make_twitter_request via the partially bound callable...\n",
    "            if screen_name:\n",
    "                response = twitter_api_func(screen_name=screen_name, cursor=cursor)\n",
    "            else: # user_id\n",
    "                response = twitter_api_func(user_id=user_id, cursor=cursor)\n",
    "            if response is not None:\n",
    "                ids += response['ids']\n",
    "                cursor = response['next_cursor']\n",
    "            print('Fetched {0} total {1} ids for {2}'.format(len(ids),\n",
    "                    label, (user_id or screen_name), file=sys.stderr))\n",
    "            if len(ids) >= limit or response is None:\n",
    "                break\n",
    "    # Do something useful with the IDs, like store them to disk...\n",
    "    return friends_ids[:friends_limit], followers_ids[:followers_limit]\n"
   ]
  },
  {
   "cell_type": "code",
   "execution_count": 5,
   "metadata": {
    "collapsed": true
   },
   "outputs": [],
   "source": [
    "def get_user_profile(twitter_api, screen_names=None, user_ids=None):\n",
    "    # Must have either screen_name or user_id (logical xor)\n",
    "    assert (screen_names != None) != (user_ids != None), \\\n",
    "        \"Must have screen_names or user_ids, but not both\"\n",
    "    items_to_info = {}\n",
    "    items = screen_names or user_ids\n",
    "    sorted_by_follow_count = []\n",
    "    while len(items) > 0:\n",
    "        # Process 100 items at a time per the API specifications for /users/lookup.\n",
    "        # See https://dev.twitter.com/docs/api/1.1/get/users/lookup for details.\n",
    "        items_str = ','.join([str(item) for item in items[:100]])\n",
    "        items = items[100:]\n",
    "        if screen_names:\n",
    "            response = make_twitter_request(twitter_api.users.lookup, screen_name=items_str)\n",
    "        else: # user_ids\n",
    "            response = make_twitter_request(twitter_api.users.lookup, user_id=items_str)\n",
    "        for user_info in response:\n",
    "            if screen_names:\n",
    "                items_to_info[user_info['followers_count']] = user_info['screen_name']\n",
    "            else: # user_ids\n",
    "                items_to_info[user_info['followers_count']] = user_info['id']\n",
    "        #print(\"RESPONCE\", response)\n",
    "        #print(\"DISCTIONAY\", items_to_info)\n",
    "    for key in sorted(items_to_info, reverse=True):\n",
    "        sorted_by_follow_count.append(items_to_info[key])\n",
    "    return sorted_by_follow_count[:5]"
   ]
  },
  {
   "cell_type": "code",
   "execution_count": 6,
   "metadata": {
    "collapsed": true
   },
   "outputs": [],
   "source": [
    "# Create a mostly empty data frame,\n",
    "# and write it to a CSV file.\n",
    "df = pd.DataFrame(columns=['ID','ReciprocalFriend'])\n",
    "df.to_csv('ReciprocalFriend.csv', index=False)\n",
    "\n",
    "# Our function\n",
    "def save_followers(fid, reciprocal_friend):\n",
    "    data_frame_rf = [[str(fid), str(i)] for i in reciprocal_friend]\n",
    "    #print(data_frame_rf)\n",
    "    df = pd.DataFrame(data_frame_rf, columns=['ID','ReciprocalFriend'])\n",
    "    with open('ReciprocalFriend.csv', 'a') as f:\n",
    "        df.to_csv(f,header=False, index=False)"
   ]
  },
  {
   "cell_type": "markdown",
   "metadata": {},
   "source": [
    "### Apply Breath First Search to generate friendship graph\n",
    "Each time we are selecting 100 reciprocal friends and finding top 5 friends with highest follower count.  These 5 reciprocal friends will be used for next level of Breadth-First search."
   ]
  },
  {
   "cell_type": "code",
   "execution_count": 7,
   "metadata": {
    "collapsed": true
   },
   "outputs": [],
   "source": [
    "def crawl_followers(twitter_api, screen_name, limit=1000000, depth=2):\n",
    "    \n",
    "    # Resolve the ID for screen_name and start working with IDs for consistency\n",
    "    seed_id = str(twitter_api.users.show(screen_name=screen_name)['id'])\n",
    "    friends_ids, followers_ids = get_friends_followers_ids(twitter_api, user_id=seed_id,\n",
    "                                 friends_limit=limit, followers_limit=limit)\n",
    "    rp_friend = list(set(friends_ids) & set(followers_ids))\n",
    "    top_five = get_user_profile(t, user_ids=rp_friend[:100])\n",
    "    next_queue = top_five\n",
    "    # Store a seed_id => _follower_ids mapping in MongoDB\n",
    "    \n",
    "    save_followers(seed_id, next_queue)\n",
    "    \n",
    "    d = 1\n",
    "    # Note that in the example in the next cell,\n",
    "    # we never enter this loop.\n",
    "    while d < depth:\n",
    "        print(\"Number of \", d,\"- Distance node\", len(next_queue))\n",
    "        d += 1\n",
    "        # Reset the next_queue so that we can\n",
    "        # start building up the next level\n",
    "        # of followers-of-followers\n",
    "        (queue, next_queue) = (next_queue, [])\n",
    "        # Loop through the current\n",
    "        # level of followers\n",
    "        for fid in queue:\n",
    "            friends_ids, followers_ids = get_friends_followers_ids(twitter_api, user_id=fid,\n",
    "                                friends_limit=limit, followers_limit=limit)\n",
    "            # Store an ID with a string recording\n",
    "            # IDs of followers of the user with ID \"fid\"\n",
    "            rp_friend = list(set(friends_ids) & set(followers_ids))\n",
    "            if (len(rp_friend) == 0):\n",
    "                continue\n",
    "            top_five = get_user_profile(t, user_ids=rp_friend[-100:])\n",
    "            save_followers(str(fid), top_five)\n",
    "            # Extending the list\n",
    "            next_queue += top_five"
   ]
  },
  {
   "cell_type": "code",
   "execution_count": 8,
   "metadata": {},
   "outputs": [
    {
     "name": "stderr",
     "output_type": "stream",
     "text": [
      "Encountered 429 Error (Rate Limit Exceeded)\n",
      "Retrying in 15 minutes...ZzZ...\n",
      "...ZzZ...Awake now and trying again.\n"
     ]
    },
    {
     "name": "stdout",
     "output_type": "stream",
     "text": [
      "Fetched 1840 total friends ids for 2384071\n",
      "Fetched 5000 total followers ids for 2384071\n",
      "Number of  1 - Distance node 4\n",
      "Fetched 1997 total friends ids for 13293162\n",
      "Fetched 5000 total followers ids for 13293162\n",
      "Fetched 1740 total friends ids for 2493137191\n",
      "Fetched 5000 total followers ids for 2493137191\n",
      "Fetched 674 total friends ids for 138818744\n",
      "Fetched 5000 total followers ids for 138818744\n",
      "Fetched 1823 total friends ids for 15813127\n",
      "Fetched 5000 total followers ids for 15813127\n",
      "Number of  2 - Distance node 20\n",
      "Fetched 1840 total friends ids for 2384071\n",
      "Fetched 5000 total followers ids for 2384071\n",
      "Fetched 621 total friends ids for 36072985\n",
      "Fetched 5000 total followers ids for 36072985\n",
      "Fetched 1265 total friends ids for 3475\n",
      "Fetched 5000 total followers ids for 3475\n",
      "Fetched 1214 total friends ids for 17595439\n",
      "Fetched 5000 total followers ids for 17595439\n",
      "Fetched 3432 total friends ids for 252531143\n",
      "Fetched 5000 total followers ids for 252531143\n",
      "Fetched 5000 total friends ids for 940736467\n",
      "Fetched 5000 total followers ids for 940736467\n",
      "Fetched 2439 total friends ids for 15085420\n",
      "Fetched 5000 total followers ids for 15085420\n",
      "Fetched 4355 total friends ids for 18571110\n",
      "Fetched 5000 total followers ids for 18571110\n",
      "Fetched 4609 total friends ids for 28989277\n",
      "Fetched 5000 total followers ids for 28989277\n",
      "Fetched 4351 total friends ids for 45772745\n",
      "Fetched 5000 total followers ids for 45772745\n"
     ]
    },
    {
     "name": "stderr",
     "output_type": "stream",
     "text": [
      "Encountered 429 Error (Rate Limit Exceeded)\n",
      "Retrying in 15 minutes...ZzZ...\n",
      "...ZzZ...Awake now and trying again.\n"
     ]
    },
    {
     "name": "stdout",
     "output_type": "stream",
     "text": [
      "Fetched 1840 total friends ids for 2384071\n",
      "Fetched 5000 total followers ids for 2384071\n",
      "Fetched 5000 total friends ids for 153966123\n",
      "Fetched 5000 total followers ids for 153966123\n",
      "Fetched 808 total friends ids for 41602160\n",
      "Fetched 5000 total followers ids for 41602160\n",
      "Fetched 4395 total friends ids for 14539425\n",
      "Fetched 5000 total followers ids for 14539425\n",
      "Fetched 5000 total friends ids for 22239212\n",
      "Fetched 5000 total followers ids for 22239212\n",
      "Fetched 2851 total friends ids for 16129920\n",
      "Fetched 5000 total followers ids for 16129920\n",
      "Fetched 5000 total friends ids for 2922268330\n",
      "Fetched 5000 total followers ids for 2922268330\n",
      "Fetched 5000 total friends ids for 2466899838\n",
      "Fetched 5000 total followers ids for 2466899838\n",
      "Fetched 5000 total friends ids for 22756947\n",
      "Fetched 5000 total followers ids for 22756947\n",
      "Fetched 5000 total friends ids for 19050461\n",
      "Fetched 5000 total followers ids for 19050461\n",
      "Number of  3 - Distance node 84\n",
      "Fetched 1997 total friends ids for 13293162\n",
      "Fetched 5000 total followers ids for 13293162\n",
      "Fetched 1740 total friends ids for 2493137191\n",
      "Fetched 5000 total followers ids for 2493137191\n",
      "Fetched 674 total friends ids for 138818744\n",
      "Fetched 5000 total followers ids for 138818744\n",
      "Fetched 1823 total friends ids for 15813127\n",
      "Fetched 5000 total followers ids for 15813127\n",
      "Fetched 538 total friends ids for 382258249\n",
      "Fetched 5000 total followers ids for 382258249\n"
     ]
    },
    {
     "name": "stderr",
     "output_type": "stream",
     "text": [
      "Encountered 429 Error (Rate Limit Exceeded)\n",
      "Retrying in 15 minutes...ZzZ...\n",
      "...ZzZ...Awake now and trying again.\n"
     ]
    },
    {
     "name": "stdout",
     "output_type": "stream",
     "text": [
      "Fetched 138 total friends ids for 271294362\n",
      "Fetched 216 total followers ids for 271294362\n",
      "Fetched 0 total friends ids for 164351758\n",
      "Fetched 0 total followers ids for 164351758\n",
      "Fetched 273 total friends ids for 1605\n",
      "Fetched 5000 total followers ids for 1605\n",
      "Fetched 539 total friends ids for 17781673\n",
      "Fetched 5000 total followers ids for 17781673\n",
      "Fetched 4309 total friends ids for 9532402\n",
      "Fetched 5000 total followers ids for 9532402\n",
      "Fetched 500 total friends ids for 1282121312\n",
      "Fetched 5000 total followers ids for 1282121312\n",
      "Fetched 343 total friends ids for 18269449\n",
      "Fetched 5000 total followers ids for 18269449\n",
      "Fetched 577 total friends ids for 20263710\n",
      "Fetched 5000 total followers ids for 20263710\n",
      "Fetched 3953 total friends ids for 14031032\n",
      "Fetched 5000 total followers ids for 14031032\n",
      "Fetched 5000 total friends ids for 38445467\n",
      "Fetched 5000 total followers ids for 38445467\n",
      "Fetched 3528 total friends ids for 481867656\n",
      "Fetched 5000 total followers ids for 481867656\n",
      "Fetched 2584 total friends ids for 733031324\n",
      "Fetched 5000 total followers ids for 733031324\n",
      "Fetched 277 total friends ids for 33196091\n",
      "Fetched 5000 total followers ids for 33196091\n",
      "Fetched 273 total friends ids for 1605\n",
      "Fetched 5000 total followers ids for 1605\n",
      "Fetched 1332 total friends ids for 5520332\n",
      "Fetched 5000 total followers ids for 5520332\n"
     ]
    },
    {
     "name": "stderr",
     "output_type": "stream",
     "text": [
      "Encountered 429 Error (Rate Limit Exceeded)\n",
      "Retrying in 15 minutes...ZzZ...\n",
      "...ZzZ...Awake now and trying again.\n"
     ]
    },
    {
     "name": "stdout",
     "output_type": "stream",
     "text": [
      "Fetched 1796 total friends ids for 14177942\n",
      "Fetched 5000 total followers ids for 14177942\n",
      "Fetched 5000 total friends ids for 15469000\n",
      "Fetched 5000 total followers ids for 15469000\n",
      "Fetched 5000 total friends ids for 583245674\n",
      "Fetched 5000 total followers ids for 583245674\n",
      "Fetched 5000 total friends ids for 42417984\n",
      "Fetched 5000 total followers ids for 42417984\n",
      "Fetched 5000 total friends ids for 22986573\n",
      "Fetched 5000 total followers ids for 22986573\n",
      "Fetched 5000 total friends ids for 42819565\n",
      "Fetched 5000 total followers ids for 42819565\n",
      "Fetched 5000 total friends ids for 2310938544\n",
      "Fetched 5000 total followers ids for 2310938544\n",
      "Fetched 5000 total friends ids for 5768872\n",
      "Fetched 5000 total followers ids for 5768872\n",
      "Fetched 5000 total friends ids for 179398386\n",
      "Fetched 5000 total followers ids for 179398386\n",
      "Fetched 522 total friends ids for 14051043\n",
      "Fetched 5000 total followers ids for 14051043\n",
      "Fetched 1282 total friends ids for 21207000\n",
      "Fetched 5000 total followers ids for 21207000\n",
      "Fetched 5000 total friends ids for 2168143544\n",
      "Fetched 5000 total followers ids for 2168143544\n",
      "Fetched 5000 total friends ids for 190906140\n",
      "Fetched 5000 total followers ids for 190906140\n",
      "Fetched 5000 total friends ids for 293338829\n",
      "Fetched 5000 total followers ids for 293338829\n",
      "Fetched 5000 total friends ids for 1660862130\n",
      "Fetched 5000 total followers ids for 1660862130\n"
     ]
    },
    {
     "name": "stderr",
     "output_type": "stream",
     "text": [
      "Encountered 429 Error (Rate Limit Exceeded)\n",
      "Retrying in 15 minutes...ZzZ...\n",
      "...ZzZ...Awake now and trying again.\n"
     ]
    },
    {
     "name": "stdout",
     "output_type": "stream",
     "text": [
      "Fetched 5000 total friends ids for 3187359674\n",
      "Fetched 5000 total followers ids for 3187359674\n",
      "Fetched 5000 total friends ids for 719666283336318976\n",
      "Fetched 5000 total followers ids for 719666283336318976\n",
      "Fetched 5000 total friends ids for 22986573\n",
      "Fetched 5000 total followers ids for 22986573\n",
      "Fetched 5000 total friends ids for 2750513041\n",
      "Fetched 5000 total followers ids for 2750513041\n",
      "Fetched 5000 total friends ids for 26304307\n",
      "Fetched 5000 total followers ids for 26304307\n",
      "Fetched 5000 total friends ids for 241278819\n",
      "Fetched 5000 total followers ids for 241278819\n",
      "Fetched 5000 total friends ids for 15466386\n",
      "Fetched 5000 total followers ids for 15466386\n",
      "Fetched 5000 total friends ids for 190906140\n",
      "Fetched 5000 total followers ids for 190906140\n",
      "Fetched 5000 total friends ids for 525713285\n",
      "Fetched 5000 total followers ids for 525713285\n",
      "Fetched 5000 total friends ids for 44171091\n",
      "Fetched 5000 total followers ids for 44171091\n",
      "Fetched 5000 total friends ids for 1419370418\n",
      "Fetched 5000 total followers ids for 1419370418\n",
      "Fetched 5000 total friends ids for 33906521\n",
      "Fetched 5000 total followers ids for 33906521\n",
      "Fetched 1997 total friends ids for 13293162\n",
      "Fetched 5000 total followers ids for 13293162\n",
      "Fetched 1740 total friends ids for 2493137191\n",
      "Fetched 5000 total followers ids for 2493137191\n",
      "Fetched 674 total friends ids for 138818744\n",
      "Fetched 5000 total followers ids for 138818744\n"
     ]
    },
    {
     "name": "stderr",
     "output_type": "stream",
     "text": [
      "Encountered 429 Error (Rate Limit Exceeded)\n",
      "Retrying in 15 minutes...ZzZ...\n",
      "...ZzZ...Awake now and trying again.\n"
     ]
    },
    {
     "name": "stdout",
     "output_type": "stream",
     "text": [
      "Fetched 1823 total friends ids for 15813127\n",
      "Fetched 5000 total followers ids for 15813127\n",
      "Fetched 5000 total friends ids for 404102292\n",
      "Fetched 5000 total followers ids for 404102292\n",
      "Fetched 306 total friends ids for 779379510055763968\n",
      "Fetched 5000 total followers ids for 779379510055763968\n",
      "Fetched 614 total friends ids for 72559384\n",
      "Fetched 5000 total followers ids for 72559384\n",
      "Fetched 454 total friends ids for 706157000\n",
      "Fetched 5000 total followers ids for 706157000\n",
      "Fetched 578 total friends ids for 576256688\n",
      "Fetched 5000 total followers ids for 576256688\n",
      "Fetched 95 total friends ids for 183735745\n",
      "Fetched 5000 total followers ids for 183735745\n",
      "Fetched 514 total friends ids for 15677036\n",
      "Fetched 5000 total followers ids for 15677036\n",
      "Fetched 5000 total friends ids for 606412878\n",
      "Fetched 5000 total followers ids for 606412878\n",
      "Fetched 4636 total friends ids for 140883357\n",
      "Fetched 5000 total followers ids for 140883357\n",
      "Fetched 3209 total friends ids for 19665271\n",
      "Fetched 5000 total followers ids for 19665271\n",
      "Fetched 3305 total friends ids for 293786612\n",
      "Fetched 5000 total followers ids for 293786612\n",
      "Fetched 1001 total friends ids for 39088067\n",
      "Fetched 5000 total followers ids for 39088067\n",
      "Fetched 5000 total friends ids for 27397922\n",
      "Fetched 5000 total followers ids for 27397922\n",
      "Fetched 5000 total friends ids for 167554905\n",
      "Fetched 5000 total followers ids for 167554905\n"
     ]
    },
    {
     "name": "stderr",
     "output_type": "stream",
     "text": [
      "Encountered 429 Error (Rate Limit Exceeded)\n",
      "Retrying in 15 minutes...ZzZ...\n",
      "...ZzZ...Awake now and trying again.\n"
     ]
    },
    {
     "name": "stdout",
     "output_type": "stream",
     "text": [
      "Fetched 5000 total friends ids for 2205388728\n",
      "Fetched 5000 total followers ids for 2205388728\n",
      "Fetched 5000 total friends ids for 106790805\n",
      "Fetched 5000 total followers ids for 106790805\n",
      "Fetched 346 total friends ids for 210957932\n",
      "Fetched 5000 total followers ids for 210957932\n",
      "Fetched 160 total friends ids for 3724175959\n",
      "Fetched 2465 total followers ids for 3724175959\n",
      "Fetched 5000 total friends ids for 1262776610\n",
      "Fetched 5000 total followers ids for 1262776610\n",
      "Fetched 221 total friends ids for 63839488\n",
      "Fetched 5000 total followers ids for 63839488\n",
      "Fetched 5000 total friends ids for 25387735\n",
      "Fetched 5000 total followers ids for 25387735\n",
      "Fetched 3105 total friends ids for 18533219\n",
      "Fetched 5000 total followers ids for 18533219\n",
      "Fetched 4479 total friends ids for 343438129\n",
      "Fetched 5000 total followers ids for 343438129\n",
      "Fetched 819 total friends ids for 308235132\n",
      "Fetched 5000 total followers ids for 308235132\n",
      "Fetched 2040 total friends ids for 22986148\n",
      "Fetched 5000 total followers ids for 22986148\n",
      "Fetched 5000 total friends ids for 3182044304\n",
      "Fetched 5000 total followers ids for 3182044304\n",
      "Fetched 5000 total friends ids for 2358191826\n",
      "Fetched 5000 total followers ids for 2358191826\n",
      "Fetched 5000 total friends ids for 2463677318\n",
      "Fetched 5000 total followers ids for 2463677318\n",
      "Fetched 5000 total friends ids for 132774626\n",
      "Fetched 5000 total followers ids for 132774626\n"
     ]
    },
    {
     "name": "stderr",
     "output_type": "stream",
     "text": [
      "Encountered 429 Error (Rate Limit Exceeded)\n",
      "Retrying in 15 minutes...ZzZ...\n",
      "...ZzZ...Awake now and trying again.\n"
     ]
    },
    {
     "name": "stdout",
     "output_type": "stream",
     "text": [
      "Fetched 5000 total friends ids for 167781199\n",
      "Fetched 5000 total followers ids for 167781199\n",
      "Fetched 5000 total friends ids for 1262776610\n",
      "Fetched 5000 total followers ids for 1262776610\n",
      "Fetched 5000 total friends ids for 17850785\n",
      "Fetched 5000 total followers ids for 17850785\n",
      "Fetched 5000 total friends ids for 16126957\n",
      "Fetched 5000 total followers ids for 16126957\n"
     ]
    }
   ],
   "source": [
    "screen_name = 'timoreilly'\n",
    "crawl_followers(t, screen_name, depth=4, limit=5000)"
   ]
  },
  {
   "cell_type": "markdown",
   "metadata": {},
   "source": [
    "### Read graph stored in a file from the earlier step and generate networkx graph."
   ]
  },
  {
   "cell_type": "code",
   "execution_count": 9,
   "metadata": {
    "collapsed": true
   },
   "outputs": [],
   "source": [
    "import numpy as np\n",
    "import pandas as pd\n",
    "import networkx as nx\n",
    "import matplotlib.pyplot as plt\n",
    "from sklearn.cluster import KMeans"
   ]
  },
  {
   "cell_type": "code",
   "execution_count": 10,
   "metadata": {
    "collapsed": true
   },
   "outputs": [],
   "source": [
    "# Create Graph from file\n",
    "df = pd.read_csv(\"ReciprocalFriend.csv\")\n",
    "x_point = list(df[df.columns[0]].values)\n",
    "y_point = list(df[df.columns[1]].values)\n",
    "edges_list = []\n",
    "for i in range(len(x_point)):\n",
    "    edges_list.append((x_point[i], y_point[i]))\n",
    "node_list = set(x_point+y_point)\n",
    "RG = nx.Graph()\n",
    "RG.add_nodes_from(node_list)\n",
    "RG.add_edges_from(edges_list)"
   ]
  },
  {
   "cell_type": "code",
   "execution_count": 11,
   "metadata": {},
   "outputs": [
    {
     "name": "stdout",
     "output_type": "stream",
     "text": [
      "Number of Nodes : 384\n",
      "Numebr of edges : 405\n"
     ]
    }
   ],
   "source": [
    "# Display some graph information such as number of nodes and edges\n",
    "print (\"Number of Nodes :\", RG.number_of_nodes())\n",
    "print (\"Numebr of edges :\", RG.number_of_edges())"
   ]
  },
  {
   "cell_type": "markdown",
   "metadata": {},
   "source": [
    "### Apply Spectral clustering on the graph to detect communities "
   ]
  },
  {
   "cell_type": "code",
   "execution_count": 12,
   "metadata": {
    "collapsed": true
   },
   "outputs": [],
   "source": [
    "# find Laplacian matrix\n",
    "A = nx.adjacency_matrix(RG)\n",
    "D = np.diag(list(dict(nx.degree(RG)).values()))\n",
    "L = D - A"
   ]
  },
  {
   "cell_type": "code",
   "execution_count": 13,
   "metadata": {},
   "outputs": [
    {
     "name": "stdout",
     "output_type": "stream",
     "text": [
      "We will devide our Graph in 3 communities\n"
     ]
    }
   ],
   "source": [
    "# find required eigen value and eigen vector\n",
    "lmbds,vctrs = np.linalg.eig(L)\n",
    "indx = [i for i in range(len(lmbds)) if lmbds[i] > .01 and lmbds[i] < .03]\n",
    "RG_mbd = vctrs[:,indx]\n",
    "print (\"We will devide our Graph in\", len(indx), \"communities\")"
   ]
  },
  {
   "cell_type": "code",
   "execution_count": 14,
   "metadata": {},
   "outputs": [
    {
     "name": "stderr",
     "output_type": "stream",
     "text": [
      "C:\\Users\\Bhushan\\Anaconda3\\lib\\site-packages\\sklearn\\utils\\validation.py:433: ComplexWarning: Casting complex values to real discards the imaginary part\n",
      "  array = np.array(array, dtype=dtype, order=order, copy=copy)\n"
     ]
    }
   ],
   "source": [
    "# Apply k-means\n",
    "est = KMeans(n_clusters=len(indx))\n",
    "est.fit(RG_mbd)\n",
    "\n",
    "# Labels will give us community number for each node\n",
    "# we will use same community number as color value for each node\n",
    "labels = est.labels_"
   ]
  },
  {
   "cell_type": "markdown",
   "metadata": {},
   "source": [
    "### Display graph with the different color for each detected community"
   ]
  },
  {
   "cell_type": "code",
   "execution_count": 15,
   "metadata": {},
   "outputs": [
    {
     "data": {
      "image/png": "[encoded data removed]",
      "text/plain": [
       "<matplotlib.figure.Figure at 0x152e98e0ef0>"
      ]
     },
     "metadata": {},
     "output_type": "display_data"
    }
   ],
   "source": [
    "# Display Graph with different colors for each community\n",
    "pos = nx.spring_layout(RG)\n",
    "nx.draw_networkx_nodes(RG,pos,\n",
    "                       nodelist=node_list,\n",
    "                       node_color=labels,\n",
    "                       node_size=100,\n",
    "                   alpha=0.8)\n",
    "nx.draw_networkx_edges(RG,pos)\n",
    "plt.show()"
   ]
  }
 ],
 "metadata": {
  "kernelspec": {
   "display_name": "Python 3",
   "language": "python",
   "name": "python3"
  },
  "language_info": {
   "codemirror_mode": {
    "name": "ipython",
    "version": 3
   },
   "file_extension": ".py",
   "mimetype": "text/x-python",
   "name": "python",
   "nbconvert_exporter": "python",
   "pygments_lexer": "ipython3",
   "version": "3.6.3"
  }
 },
 "nbformat": 4,
 "nbformat_minor": 2
}
